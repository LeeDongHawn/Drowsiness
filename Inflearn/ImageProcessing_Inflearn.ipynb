{
 "cells": [
  {
   "cell_type": "code",
   "execution_count": 1,
   "metadata": {},
   "outputs": [],
   "source": [
    "import cv2\n",
    "import numpy as np"
   ]
  },
  {
   "attachments": {},
   "cell_type": "markdown",
   "metadata": {},
   "source": [
    "# 래스터(비트맵) 그래픽스\n",
    "### 픽셀 단위로 구성된 이미지\n",
    "# 벡터 그래픽스\n",
    "### 벡터 기반으로 구성된 이미지\n",
    "\n",
    "## 차이점\n",
    "### 래스터(비트맵)이미지는 확대 시 명확성이 떨어지나 벡터 이미지를 사용하면 손실이 일어나지 않음\n"
   ]
  },
  {
   "cell_type": "code",
   "execution_count": 2,
   "metadata": {},
   "outputs": [
    {
     "name": "stdout",
     "output_type": "stream",
     "text": [
      "OpenCV version:\n",
      "4.4.0\n"
     ]
    }
   ],
   "source": [
    "print(\"OpenCV version:\")\n",
    "print(cv2.__version__)"
   ]
  },
  {
   "cell_type": "code",
   "execution_count": 46,
   "metadata": {},
   "outputs": [],
   "source": [
    "img = cv2.imread('D:\\dogs-vs-cats\\img_34.jpg')"
   ]
  },
  {
   "cell_type": "code",
   "execution_count": 5,
   "metadata": {},
   "outputs": [],
   "source": [
    "gray = cv2.cvtColor(img, cv2.COLOR_RGB2GRAY)"
   ]
  },
  {
   "cell_type": "markdown",
   "metadata": {},
   "source": [
    "### 이미지 파일 시각화하기\n",
    "### cv2.imshow(\"img\",img)\n",
    "### cv2.imshow(\"img-gray\",gray)\n",
    "### cv2.waitKey(0)\n",
    "### cv2.destroyAllWindows()"
   ]
  },
  {
   "cell_type": "code",
   "execution_count": 8,
   "metadata": {},
   "outputs": [
    {
     "name": "stdout",
     "output_type": "stream",
     "text": [
      "width : 500 pixels\n",
      "height : 374 pixels\n",
      "channels : 3 pixels\n"
     ]
    }
   ],
   "source": [
    "print(\"width : {} pixels\".format(img.shape[1]))\n",
    "print(\"height : {} pixels\".format(img.shape[0]))\n",
    "print(\"channels : {} pixels\".format(img.shape[2]))"
   ]
  },
  {
   "cell_type": "markdown",
   "metadata": {},
   "source": [
    "### png 파일을 jpg 파일로 변환하기\n",
    "### img = cv2.imread(\"a.png\")\n",
    "### cv2.waitKey(0)\n",
    "### cv2.imwrite(\"a.jpg\",img)\n",
    "### cv2.destroyAllWindows()"
   ]
  },
  {
   "cell_type": "code",
   "execution_count": 27,
   "metadata": {},
   "outputs": [
    {
     "name": "stdout",
     "output_type": "stream",
     "text": [
      "87 164 203\n"
     ]
    }
   ],
   "source": [
    "# opencv는 b, g, r로 가져옴\n",
    "(b, g, r) = img[0,0]\n",
    "print(b, g, r)\n",
    "\n",
    "# 이미지 특정 픽셀을 사각형으로 그리기\n",
    "# dot = img[50:70, 50:70]\n",
    "# cv2.imshow(\"Dot\",dot)\n",
    "\n",
    "# 이미지 특정 픽셀 색 변경하기\n",
    "img[50:70, 50:70] = (0, 0, 255)\n",
    "# cv2.imshow(\"img -dot\",img)\n",
    "\n",
    "# width, height 순서!\n",
    "# 이미지에 (시작점-왼쪽 위), (끝점-오른쪽 아래), 색, 굵기 사각형 그리기 \n",
    "cv2.rectangle(img, (150,50), (200, 100), (0,255,0), 5)\n",
    "# cv2.imshow(\"img - rec\",img)\n",
    "\n",
    "# 이미지에 (중심점), 반지름, 색, 채우기 원 그리기\n",
    "cv2.circle(img, (275, 75), 25, (0, 255, 255), -1)\n",
    "# cv2.imshow('img - cir',img)\n",
    "\n",
    "# 이미지에 선 그리기\n",
    "cv2.line(img, (350, 100), (400, 100), (255, 0, 0), 5)\n",
    "cv2.line(img, (100, 350), (100, 400), (0, 255, 0), 5)\n",
    "# cv2.imshow('img - line',img)\n",
    "\n",
    "# 이미지에 글자, 위치, FONT, 굵기, 색 글자 작성하기\n",
    "cv2.putText(img, 'test', (300,200),cv2.FONT_HERSHEY_SIMPLEX, 1, (255,255,0))\n",
    "# cv2.imshow('img - text',img)\n",
    "\n",
    "# cv2.waitKey(0)\n",
    "# cv2.destroyAllWindows()"
   ]
  },
  {
   "cell_type": "code",
   "execution_count": 35,
   "metadata": {},
   "outputs": [
    {
     "name": "stdout",
     "output_type": "stream",
     "text": [
      "width : 200 pixels\n",
      "height : 149 pixels\n",
      "channels : 3 pixels\n"
     ]
    }
   ],
   "source": [
    "# img[0] 을 height, img[1]을 width에 저장한다.\n",
    "(height, width) = img.shape[:2]\n",
    "# 이미지 중간값 찾기\n",
    "center = (width//2, height//2)\n",
    "\n",
    "# height를 100 만큼 down, right로 100만큼 움직여라\n",
    "# 음수는 up, left만큼 움직임을 의미\n",
    "move = np.float32([[1, 0, 100], [0, 1, 100]])\n",
    "move2 = np.float32([[1, 0, -100], [0, 1, -100]])\n",
    "moved = cv2.warpAffine(img, move2, (width, height))\n",
    "# cv2.imshow(\"Move down : +, up : -\",moved)\n",
    "\n",
    "# rotate + : 반시계방향, - : 시계방향 회전\n",
    "move3 = cv2.getRotationMatrix2D(center, 90, 1.0)\n",
    "rotated = cv2.warpAffine(img, move3, (width,height))\n",
    "# cv2.imshow(\"rotate\",rotated)\n",
    "\n",
    "# resize(width 비율에 맞게)\n",
    "ratio = 200.0 / width\n",
    "dimension = (200, int(height * ratio))\n",
    "resized = cv2.resize(img, dimension, interpolation = cv2.INTER_AREA)\n",
    "print(\"width : {} pixels\".format(resized.shape[1]))\n",
    "print(\"height : {} pixels\".format(resized.shape[0]))\n",
    "print(\"channels : {} pixels\".format(resized.shape[2]))\n",
    "# cv2.imshow(\"resize\",resized)\n",
    "\n",
    "# flip(대칭) 1 : 좌우, 2 : 위아래, -1 : 둘다 대칭\n",
    "flipped = cv2.flip(img,1)\n",
    "# cv2.imshow(\"Ho\",flipped)\n",
    "\n",
    "# cv2.waitKey(0)\n",
    "# cv2.destroyAllWindows()"
   ]
  },
  {
   "cell_type": "markdown",
   "metadata": {},
   "source": [
    "## Masking이란?\n",
    "### 원래 이미지에서 Mask 영역만 추출하기위해 사용함"
   ]
  },
  {
   "cell_type": "code",
   "execution_count": 41,
   "metadata": {},
   "outputs": [],
   "source": [
    "# 이미지 Height, Width 사이즈만큼 0으로 채우기\n",
    "mask = np.zeros(img.shape[:2], dtype = \"uint8\")\n",
    "cv2.circle(mask,center, 150, (255,255,255), -1)\n",
    "# cv2.imshow(\"mask\", mask)\n",
    "\n",
    "# 원본 이미지와 mask 간의 bitwise 연산자 사용\n",
    "masked = cv2.bitwise_and(img, img, mask = mask)\n",
    "# cv2.imshow('masked',masked)\n",
    "\n",
    "# cv2.waitKey(0)\n",
    "# cv2.destroyAllWindows()"
   ]
  },
  {
   "cell_type": "code",
   "execution_count": 49,
   "metadata": {},
   "outputs": [],
   "source": [
    "(Blue, Green, Red) = cv2.split(img)\n",
    "\n",
    "# cv2.imshow(\"Red\",Red)\n",
    "# cv2.imshow(\"Green\",Green)\n",
    "# cv2.imshow(\"Blue\",Blue)\n",
    "\n",
    "zeros = np.zeros(img.shape[:2], dtype = \"uint8\")\n",
    "# cv2.imshow(\"Red\",cv2.merge([zeros, zeros, Red]))\n",
    "# cv2.imshow(\"Green\",cv2.merge([zeros, Green, zeros]))\n",
    "# cv2.imshow(\"Blue\",cv2.merge([Blue, zeros, zeros]))\n",
    "\n",
    "gray = cv2.cvtColor(img, cv2.COLOR_BGR2GRAY)\n",
    "# cv2.imshow(\"Gray\", gray)\n",
    "hsv = cv2.cvtColor(img, cv2.COLOR_BGR2HSV)\n",
    "# cv2.imshow(\"Hsv\", hsv)\n",
    "lab = cv2.cvtColor(img, cv2.COLOR_BGR2LAB)\n",
    "# cv2.imshow(\"Lab\", lab)\n",
    "\n",
    "BGR = cv2.merge([Blue, Green, Red])\n",
    "cv2.imshow(\"BGR\",BGR)\n",
    "\n",
    "cv2.waitKey(0)\n",
    "cv2.destroyAllWindows()"
   ]
  }
 ],
 "metadata": {
  "kernelspec": {
   "display_name": "test",
   "language": "python",
   "name": "test"
  },
  "language_info": {
   "codemirror_mode": {
    "name": "ipython",
    "version": 3
   },
   "file_extension": ".py",
   "mimetype": "text/x-python",
   "name": "python",
   "nbconvert_exporter": "python",
   "pygments_lexer": "ipython3",
   "version": "3.7.7"
  }
 },
 "nbformat": 4,
 "nbformat_minor": 4
}
