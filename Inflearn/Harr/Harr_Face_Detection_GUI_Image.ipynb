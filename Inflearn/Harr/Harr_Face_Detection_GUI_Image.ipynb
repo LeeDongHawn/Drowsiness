{
 "cells": [
  {
   "cell_type": "markdown",
   "metadata": {},
   "source": [
    "# Face Detection\n",
    "## 1. Object Dection - Cascade Classifier(Viola-Jones)\n",
    "## 2. Deep Neural Networks\n",
    "## 3. 1+2\n"
   ]
  },
  {
   "cell_type": "code",
   "execution_count": 1,
   "metadata": {},
   "outputs": [],
   "source": [
    "import cv2\n",
    "import numpy as np\n",
    "from tkinter import *\n",
    "from PIL import Image\n",
    "from PIL import ImageTk\n",
    "from tkinter import filedialog"
   ]
  },
  {
   "cell_type": "code",
   "execution_count": 2,
   "metadata": {},
   "outputs": [],
   "source": [
    "def detectAndDisplay(frame):\n",
    "    # 정확도 향상을 위한 Gray Scale로 변환\n",
    "    frame_gray = cv2.cvtColor(frame, cv2.COLOR_BGR2GRAY)\n",
    "    frame_gray = cv2.equalizeHist(frame_gray)\n",
    "    # detect faces\n",
    "    faces = face_cascade.detectMultiScale(frame_gray)\n",
    "    # x y좌표 w h넓이 높이(얼굴 영역)\n",
    "    for (x,y,w,h) in faces :\n",
    "        center = (x + w//2, y + h//2)\n",
    "        frame = cv2.rectangle(frame, (x,y), (x+w, y+h), (0, 255, 0), 4)\n",
    "        faceROI = frame_gray[y:y+h, x:x+w]\n",
    "        # detect eyes\n",
    "        eyes = eyes_cascade.detectMultiScale(faceROI)\n",
    "        # x y좌표 w h넓이 높이(눈 영역)\n",
    "        for (x2,y2,w2,h2) in eyes :\n",
    "            eye_center = (x + x2 + w2//2, y + y2 + h2//2)\n",
    "            radius = int(round((w2 + h2)*0.25))\n",
    "            frame = cv2.circle(frame, eye_center, radius, (255, 0, 0),4)\n",
    "        # cv2.imshow('Capture - Face detection', frame)\n",
    "        image = cv2.cvtColor(frame, cv2.COLOR_BGR2RGB)\n",
    "        image = Image.fromarray(image)\n",
    "        imgtk = ImageTk.PhotoImage(image=image)\n",
    "        detection.config(image=imgtk)\n",
    "        detection.image = imgtk      "
   ]
  },
  {
   "cell_type": "code",
   "execution_count": 3,
   "metadata": {},
   "outputs": [],
   "source": [
    "def selectFile():\n",
    "    # OS에 맞는 filedialog 사용\n",
    "    file_name =  filedialog.askopenfilename(initialdir = \"D:/opencv_dnn_202005/opencv_dnn_202005/image/\",\n",
    "                                            title = \"Select file\",filetypes = ((\"jpeg files\",\"*.jpg\"),(\"all files\",\"*.*\")))\n",
    "    print('File name : ', file_name)\n",
    "    # 이미지 읽기\n",
    "    read_image = cv2.imread(file_name)\n",
    "    # height, width 지정하기\n",
    "    (height, width) = read_image.shape[:2]\n",
    "    # 이미지 resize하기\n",
    "    frameSize = int(sizeSpin.get())\n",
    "    ratio = frameSize / width\n",
    "    dimension = (frameSize, int(height * ratio))\n",
    "    read_image = cv2.resize(read_image, dimension, interpolation = cv2.INTER_AREA)\n",
    "    # BGR to RGB 변환\n",
    "    image = cv2.cvtColor(read_image, cv2.COLOR_BGR2RGB)\n",
    "    image = Image.fromarray(image)\n",
    "    imgtk = ImageTk.PhotoImage(image=image)\n",
    "    detectAndDisplay(read_image)"
   ]
  },
  {
   "cell_type": "code",
   "execution_count": 4,
   "metadata": {},
   "outputs": [
    {
     "name": "stdout",
     "output_type": "stream",
     "text": [
      "File name :  D:/opencv_dnn_202005/opencv_dnn_202005/image/soccer_03.jpg\n"
     ]
    }
   ],
   "source": [
    "title_name = \"Harr_Face_GUI\"\n",
    "frame_width = 500\n",
    "main = Tk()\n",
    "main.title(title_name)\n",
    "main.geometry()\n",
    "\n",
    "read_image = cv2.imread(\"D:/opencv_dnn_202005/opencv_dnn_202005/image/marathon_01.jpg\")\n",
    "(height, width) = read_image.shape[:2]\n",
    "ratio = frame_width / width\n",
    "dimension = (frame_width, int(height * ratio))\n",
    "read_image = cv2.resize(read_image, dimension, interpolation = cv2.INTER_AREA)\n",
    "\n",
    "image = cv2.cvtColor(read_image, cv2.COLOR_BGR2RGB)\n",
    "image = Image.fromarray(image)\n",
    "imgtk = ImageTk.PhotoImage(image=image)\n",
    "\n",
    "face_cascade_name = 'C:/Users/User/Anaconda3/envs/test/Lib/site-packages/cv2/data/haarcascade_frontalface_alt.xml'\n",
    "eyes_cascade_name = 'C:/Users/User/Anaconda3/envs/test/Lib/site-packages/cv2/data/haarcascade_eye_tree_eyeglasses.xml'\n",
    "\n",
    "face_cascade = cv2.CascadeClassifier()\n",
    "eyes_cascade = cv2.CascadeClassifier()\n",
    "\n",
    "#-- 1. Load the cascades\n",
    "if not face_cascade.load(cv2.samples.findFile(face_cascade_name)):\n",
    "    print('--(!)Error loading face cascade')\n",
    "    exit(0)\n",
    "if not eyes_cascade.load(cv2.samples.findFile(eyes_cascade_name)):\n",
    "    print('--(!)Error loading eyes cascade')\n",
    "    exit(0)\n",
    "\n",
    "# 예외처리\n",
    "if not face_cascade.load(cv2.samples.findFile(face_cascade_name)):\n",
    "    print('--(!)Error loading face cascade')\n",
    "    exit(0)\n",
    "if not eyes_cascade.load(cv2.samples.findFile(eyes_cascade_name)):\n",
    "    print('--(!)Error loading face cascade')\n",
    "    exit(0)\n",
    "\n",
    "label=Label(main, text=title_name)\n",
    "label.config(font=(\"Courier\", 18))\n",
    "label.grid(row=0,column=0,columnspan=4)\n",
    "sizeLabel=Label(main, text='Frame Width : ')                \n",
    "sizeLabel.grid(row=1,column=0)\n",
    "sizeVal  = IntVar(value=frame_width)\n",
    "sizeSpin = Spinbox(main, textvariable=sizeVal,from_=0, to=2000, increment=100, justify=RIGHT)\n",
    "sizeSpin.grid(row=1, column=1)\n",
    "Button(main,text=\"File Select\", height=2,command=lambda:selectFile()).grid(row=1, column=2, columnspan=2, sticky=(W, E))\n",
    "detection=Label(main, image=imgtk)\n",
    "detection.grid(row=2,column=0,columnspan=4)\n",
    "detectAndDisplay(read_image)\n",
    "\n",
    "main.mainloop()\n"
   ]
  }
 ],
 "metadata": {
  "kernelspec": {
   "display_name": "test",
   "language": "python",
   "name": "test"
  },
  "language_info": {
   "codemirror_mode": {
    "name": "ipython",
    "version": 3
   },
   "file_extension": ".py",
   "mimetype": "text/x-python",
   "name": "python",
   "nbconvert_exporter": "python",
   "pygments_lexer": "ipython3",
   "version": "3.7.7"
  }
 },
 "nbformat": 4,
 "nbformat_minor": 4
}
